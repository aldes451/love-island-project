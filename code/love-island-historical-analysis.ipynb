{
  "cells": [
    {
      "metadata": {
        "trusted": true
      },
      "cell_type": "code",
      "source": "#Import packages\nimport pandas as pd\nimport numpy as np\nimport matplotlib.pyplot as plt",
      "execution_count": null,
      "outputs": []
    },
    {
      "metadata": {
        "trusted": true
      },
      "cell_type": "code",
      "source": "# Read CSV file\ndata = pd.read_csv('love-island-historical-dataset.csv')\ndata.tail()",
      "execution_count": null,
      "outputs": []
    },
    {
      "metadata": {
        "trusted": true
      },
      "cell_type": "code",
      "source": "data.describe()",
      "execution_count": null,
      "outputs": []
    },
    {
      "metadata": {
        "trusted": true
      },
      "cell_type": "code",
      "source": "shape = data.shape\ncolumns = data.columns.tolist()\nprint(\"Shape of the data: \", shape)\nprint(\"Columns within the dataset: \", columns)",
      "execution_count": null,
      "outputs": []
    },
    {
      "metadata": {
        "trusted": true
      },
      "cell_type": "code",
      "source": "winners = data[data['OUTCOME'].values == 'WINNER']\nwinners.style",
      "execution_count": null,
      "outputs": []
    },
    {
      "metadata": {
        "trusted": true
      },
      "cell_type": "code",
      "source": "winners = data[data['OUTCOME'].values == 'RUNNER UP']\nwinners.style",
      "execution_count": null,
      "outputs": []
    },
    {
      "metadata": {
        "trusted": true
      },
      "cell_type": "code",
      "source": "winners = data[data['OUTCOME'].values == 'THIRD PLACE']\nwinners.style",
      "execution_count": null,
      "outputs": []
    },
    {
      "metadata": {},
      "cell_type": "markdown",
      "source": "# Graphs"
    },
    {
      "metadata": {
        "trusted": true
      },
      "cell_type": "code",
      "source": "#simple histogram\nages = data['Age']\nplt.boxplot(ages)",
      "execution_count": null,
      "outputs": []
    },
    {
      "metadata": {
        "trusted": true
      },
      "cell_type": "code",
      "source": "# Split data by love island series\nyear2018 = data[data['love-island-series'].values == 2018]\nyear2017 = data[data['love-island-series'].values == 2017]\nyear2016 = data[data['love-island-series'].values == 2016]\n\nages_2018 = np.array(year2018[['Age']])\nages_2017 = np.array(year2017[['Age']])\nages_2016 = np.array(year2016[['Age']])\n\nfig = plt.figure(figsize =(10,10))\n\nax1 = fig.add_subplot(221)\nax1.violinplot(ages_2018, showmedians = True)\nplt.xticks([1], ['2018'])\nplt.title('Distribution of Ages for Love Island 2018')\n\nax2 = fig.add_subplot(222)\nax2.violinplot(ages_2017, showmedians = True)\nplt.xticks([1], ['2017'])\nplt.title('Distribution of Ages for Love Island 2017')\n\nax3 = fig.add_subplot(223)\nax3.violinplot(ages_2016, showmedians = True)\nplt.xticks([1], ['2016'])\nplt.title('Distribution of Ages for Love Island 2016')",
      "execution_count": null,
      "outputs": []
    },
    {
      "metadata": {
        "trusted": true
      },
      "cell_type": "code",
      "source": "# main dataset\ndaysinvilla = data[['Contestant Name','NUMBER OF DAYS IN VILLA', 'love-island-series', 'First Group to enter villa']]\n\n# Split data by love island series\nyear2018 = daysinvilla[daysinvilla['love-island-series'].values == 2018].sort_values('NUMBER OF DAYS IN VILLA')\nyear2017 = daysinvilla[daysinvilla['love-island-series'].values == 2017].sort_values('NUMBER OF DAYS IN VILLA')\nyear2016 = daysinvilla[daysinvilla['love-island-series'].values == 2016].sort_values('NUMBER OF DAYS IN VILLA')\n\n\nfig = plt.figure(figsize =(20,20))\n\nax1 = fig.add_subplot(221)\nax1.barh(year2018['Contestant Name'], year2018['NUMBER OF DAYS IN VILLA'],height= 0.8, color = 'magenta', label = '2018')\nplt.title('Love Island 2018 - Contestants by number of days in the villa')\nplt.legend()\n\nax2 = fig.add_subplot(222)\nax2.barh(year2017['Contestant Name'], year2017['NUMBER OF DAYS IN VILLA'],height= 0.8, color = 'blue', label = '2017')\nplt.title('Love Island 2017 - Contestants by number of days in the villa')\nplt.legend()\n\nax3 = fig.add_subplot(223)\nax3.barh(year2016['Contestant Name'], year2016['NUMBER OF DAYS IN VILLA'],height= 0.8, color = 'lawngreen', label = '2016')\nplt.title('Love Island 2016 - Contestants by number of days in the villa')\nplt.legend()\n",
      "execution_count": null,
      "outputs": []
    },
    {
      "metadata": {
        "trusted": true
      },
      "cell_type": "code",
      "source": "# simple pie charts\nareaofuk = data['Area of UK'].value_counts()\ndestination = data['From'].value_counts()\n\ncolours = ['deeppink', 'aqua', 'magenta', 'silver', 'lime', 'yellow']\nexplode = (0.2,0,0, 0,0, 0)\n\nfig = plt.figure(figsize =(10,10))\n\nax1 = fig.add_subplot(221)\nax1.pie(areaofuk, labels = areaofuk.index, colors = colours, explode=explode, autopct='%.2f', startangle=90)\n#plt.axis('equal')\n\nax2 = fig.add_subplot(222)\nax2.pie(destination, labels = destination.index, colors = colours, autopct='%.2f', startangle=90)\n#plt.axis('equal')\n\n",
      "execution_count": null,
      "outputs": []
    },
    {
      "metadata": {
        "trusted": true
      },
      "cell_type": "code",
      "source": "# % chance given historical data\nfirst_to_enter_villa = len(data['First Group to enter villa'])\nfirst_to_enter_villa_yes = len(data[data['First Group to enter villa'].values == 'YES'])\nfirst_to_enter_villa_no = len(data[data['First Group to enter villa'].values == 'NO'])\n\nfirst_villa = data[(data['First Group to enter villa'].values == 'YES')]\nwinner = data[data['OUTCOME'].values == 'WINNER']\nrunnerup = data[data['OUTCOME'].values == 'RUNNER UP']\nthirdplace = data[data['OUTCOME'].values == 'THIRD PLACE']\nfirst_villa_and_winner = data[(data['First Group to enter villa'].values == 'YES')&(data['OUTCOME'].values == 'WINNER')]\nfirst_villa_and_runnerup = data[(data['First Group to enter villa'].values == 'YES')&(data['OUTCOME'].values == 'RUNNER UP')]\nfirst_villa_and_thirdplace = data[(data['First Group to enter villa'].values == 'YES')&(data['OUTCOME'].values == 'THIRD PLACE')]\n\n\n\npercent_first_villa_and_winner = (len(first_villa_and_winner)/len(winner))*100\nprint('Percentage of poeple who won and were part of the first group to enter the villa: '+ str(percent_first_villa_and_winner) + '%')\n\npercent_first_villa_inc_runnerup = ((len(first_villa_and_winner)+(len(first_villa_and_runnerup)))/(len(winner)+len(runnerup)))*100\nprint('Percentage of poeple who won/runner up and were part of the first group to enter the villa: ' + str(percent_first_villa_inc_runnerup) + '%')\n\npercent_first_villa_inc_thirdplace = ((len(first_villa_and_winner)+len(first_villa_and_runnerup)+len(first_villa_and_thirdplace))/(len(winner)+len(runnerup)+len(thirdplace)))*100\nprint('Percentage of poeple who won/runner up/third place and were part of the first group to enter the villa: ' + str(percent_first_villa_inc_thirdplace) + '%')\n",
      "execution_count": null,
      "outputs": []
    },
    {
      "metadata": {
        "trusted": true
      },
      "cell_type": "code",
      "source": "#Scatter Plot - day joined villa / no of couple\nx1 = data['Day Joined Villa']\ny1 = data['Number of Couples']\nx2 = data['Age']\ny2 = data['Longest couple length']\ny3 = data['NUMBER OF DAYS IN VILLA']\ny4 = data['Day left Villa']\n\n\n\ndata_2018 = data[data['love-island-series'] >= 2018]\nx5 = data_2018['NUMBER OF DAYS IN VILLA']\ny5 = data_2018['Times got Pied']\ny6 = data_2018['Number of dates']\ny7 = data_2018['Number of Bust Ups']\n\n",
      "execution_count": null,
      "outputs": []
    },
    {
      "metadata": {
        "trusted": true
      },
      "cell_type": "code",
      "source": "plt.figure(figsize=(10,10))\nplt.scatter(x1,y1, color='magenta', marker='d', linewidths = '3')\nplt.xlabel(\"Day entered the Villa\")\nplt.ylabel(\"Number of couples\")\nplt.title('Day Contestant Joined the Villa by Number of Couples they had - trending down')\nplt.show()",
      "execution_count": null,
      "outputs": []
    },
    {
      "metadata": {
        "trusted": true
      },
      "cell_type": "code",
      "source": "plt.figure(figsize=(10,10))\nplt.scatter(x2,y1, color='cyan', marker='d', linewidths = '3')\nplt.xlabel(\"Age\")\nplt.ylabel(\"Number of couples\")\nplt.title('A graph to show how age relates to Number of couples across the show')#\nplt.show()",
      "execution_count": null,
      "outputs": []
    },
    {
      "metadata": {
        "trusted": true
      },
      "cell_type": "code",
      "source": "plt.figure(figsize=(10,10))\nplt.scatter(x2,y4, color='lime', marker='d', linewidths = '3')\nplt.xlabel(\"Age\")\nplt.ylabel(\"Day left the Villa\")\nplt.title('No correlation shown between leaving the villa and age')\nplt.show()",
      "execution_count": null,
      "outputs": []
    },
    {
      "metadata": {
        "trusted": true
      },
      "cell_type": "code",
      "source": "plt.figure(figsize=(10,10))\nplt.scatter(x5,y6, color='magenta', marker='d', linewidths = '3')\nplt.xlabel(\"Number of days in Villa\")\nplt.ylabel(\"Number of times pied\")\n#plt.title('No correlation shown between leaving the villa and age')\nplt.show()",
      "execution_count": null,
      "outputs": []
    },
    {
      "metadata": {
        "trusted": true
      },
      "cell_type": "code",
      "source": "fig = plt.figure(figsize =(20,20))\n\nax1 = fig.add_subplot(221)\nax1.scatter(x1,y1, color='magenta', marker='d', linewidths = '3')\nplt.xlabel(\"Day entered the Villa\")\nplt.ylabel(\"Number of couples\")\nplt.title('Day Contestant Joined the Villa by Number of Couples they had - trending down')\n\nax2 = fig.add_subplot(222)\nax2.scatter(x2,y1, color='cyan', marker='d', linewidths = '3')\nplt.xlabel(\"Age\")\nplt.ylabel(\"Number of couples\")\nplt.title('A graph to show how age relates to Number of couples across the show')\n\nax3 = fig.add_subplot(223)\nax3.scatter(x2,y4, color='lime', marker='d', linewidths = '3')\nplt.xlabel(\"Age\")\nplt.ylabel(\"Day left the Villa\")\nplt.title('No correlation shown between leaving the villa and age')\n\nax4 = fig.add_subplot(224)\nax4.scatter(x5,y6, color='magenta', marker='d', linewidths = '3')\nplt.xlabel(\"Number of days in Villa\")\nplt.ylabel(\"Number of times pied\")\nplt.title('Number of days in villa by number of dates')",
      "execution_count": null,
      "outputs": []
    },
    {
      "metadata": {
        "trusted": true
      },
      "cell_type": "code",
      "source": "##CASA AMOR EXPLORATORY ANALYSIS\n\ncasa_amor = data[data['Casa Amor addition'].values == 'YES']\n#print(casa_amor)\n\ncasaamor_sort= casa_amor.groupby(['OUTCOME'])\ncounts = casaamor_sort.size()\n\ntotal = sum(counts)\n\ndumped = (counts[0] / total) * 100\nother = (counts[1] / total) * 100\n\n\nprint('Percentage of contestants who were dumped from the island: '+ str(round(dumped,2)) + '%')\nprint('Percentage of contestants who placed well on Love Island: '+ str(round(other,2)) + '%')\n",
      "execution_count": null,
      "outputs": []
    },
    {
      "metadata": {
        "trusted": true
      },
      "cell_type": "code",
      "source": "print(casa_amor)",
      "execution_count": null,
      "outputs": []
    },
    {
      "metadata": {
        "trusted": true
      },
      "cell_type": "code",
      "source": "# main dataset\ndaysinvilla = casa_amor[['Contestant Name','NUMBER OF DAYS IN VILLA', 'love-island-series']]\n#print(daysinvilla.sort_values('NUMBER OF DAYS IN VILLA'))\n\n# Split data by love island series\nyear2018 = daysinvilla[daysinvilla['love-island-series'].values == 2018].sort_values('NUMBER OF DAYS IN VILLA')\nyear2017 = daysinvilla[daysinvilla['love-island-series'].values == 2017].sort_values('NUMBER OF DAYS IN VILLA')\n\n\nfig = plt.figure(figsize =(20,20))\n\nax1 = fig.add_subplot(221)\nax1.barh(year2018['Contestant Name'], year2018['NUMBER OF DAYS IN VILLA'],height= 0.8, facecolor = 'magenta')\nplt.xlabel(\"No. of days in the villa\")\nplt.ylabel(\"Contestant Name\")\nplt.title('No. of days Casa Amor contestant additions were in the villa - 2018')\n\nax2 = fig.add_subplot(222)\nax2.barh(year2017['Contestant Name'], year2017['NUMBER OF DAYS IN VILLA'],height= 0.8, facecolor = 'lime')\nplt.xlabel(\"No. of days in the villa\")\nplt.ylabel(\"Contestant Name\")\nplt.title('No. of days Casa Amor contestant additions were in the villa - 2017')\n",
      "execution_count": null,
      "outputs": []
    },
    {
      "metadata": {
        "trusted": true
      },
      "cell_type": "code",
      "source": "#Histogram of Casa Amor additions and how long they stay in the villa\ndays = daysinvilla['NUMBER OF DAYS IN VILLA']\ncasa_amor_2017 = year2017['NUMBER OF DAYS IN VILLA']\ncasa_amor_2018 = year2018['NUMBER OF DAYS IN VILLA']\n\nfig = plt.figure(figsize=(25,15))\nax1 = plt.subplot2grid((2,3),(0,0), colspan = 2)\nax1.hist(days, facecolor='magenta', edgecolor='black', bins=7)\nax1.set_label('All Casa Amor Contestants')\nplt.xlabel('Buckets of Number of days Casa Amor additions stayed in the villa')\nplt.ylabel('Number of contestants that lasted that many days')\nplt.title('The number of days ALL Casa Amor contestants have stayed in the Villa')\n\nax2 = plt.subplot2grid((2,3), (1,0))\nax2.hist(casa_amor_2017, facecolor='cyan', edgecolor='black', bins=10)\nax2.set_label('Casa Amor Contestants from 2017')\nplt.xlabel('Buckets of Number of days Casa Amor additions stayed in the villa')\nplt.ylabel('Number of contestants that lasted that many days')\nplt.title('The number of days 2017 Casa Amor contestants have stayed in the Villa')\n\nax3 = plt.subplot2grid((2,3), (1,1))\nax3.hist(casa_amor_2018, facecolor='lime', edgecolor='black', bins=10)\nax3.set_label('Casa Amor Contestants from 2018')\nplt.xlabel('Buckets of Number of days Casa Amor additions stayed in the villa')\nplt.ylabel('Number of contestants that lasted that many days')\nplt.title('The number of days 2018 Casa Amor contestants have stayed in the Villa')\nax3.yaxis.tick_right()\n",
      "execution_count": null,
      "outputs": []
    }
  ],
  "metadata": {
    "kernelspec": {
      "name": "python36",
      "display_name": "Python 3.6",
      "language": "python"
    },
    "language_info": {
      "mimetype": "text/x-python",
      "nbconvert_exporter": "python",
      "name": "python",
      "pygments_lexer": "ipython3",
      "version": "3.6.6",
      "file_extension": ".py",
      "codemirror_mode": {
        "version": 3,
        "name": "ipython"
      }
    }
  },
  "nbformat": 4,
  "nbformat_minor": 2
}